{
 "cells": [
  {
   "cell_type": "code",
   "execution_count": null,
   "metadata": {
    "collapsed": true
   },
   "outputs": [],
   "source": [
    "Задание 1\n",
    "\n",
    "Дан список с визитами по городам и странам. Напишите код, который возвращает отфильтрованный список geo_logs, содержащий только визиты из России. Считайте, что список geo_logs легко помещается в оперативной памяти.\n",
    "geo_logs = [\n",
    "[‘visit1’, [‘Москва’, ‘Россия’]],\n",
    "[‘visit2’, [‘Дели’, ‘Индия’]],\n",
    "[‘visit3’, [‘Владимир’, ‘Россия’]],\n",
    "[‘visit4’, [‘Лиссабон’, ‘Португалия’]],\n",
    "[‘visit5’, [‘Париж’, ‘Франция’]],\n",
    "[‘visit6’, [‘Лиссабон’, ‘Португалия’]],\n",
    "[‘visit7’, [‘Тула’, ‘Россия’]],\n",
    "[‘visit8’, [‘Тула’, ‘Россия’]],\n",
    "[‘visit9’, [‘Курск’, ‘Россия’]],\n",
    "[‘visit10’, [‘Архангельск’, ‘Россия’]],\n",
    "]"
   ]
  },
  {
   "cell_type": "code",
   "execution_count": 17,
   "metadata": {},
   "outputs": [],
   "source": [
    "geo_logs = [[\"visit1\", [\"Москва\", \"Россия\"]], \n",
    "            [\"visit2\", [\"Дели\", \"Индия\"]], \n",
    "            [\"visit3\", [\"Владимир\", \"Россия\"]], \n",
    "            [\"visit4\", [\"Лиссабон\", \"Португалия\"]],\n",
    "            [\"visit5\", [\"Париж\", \"Франция\"]],\n",
    "            [\"visit6\", [\"Лиссабон\", \"Португалия\"]],\n",
    "            [\"visit7\", [\"Тула\", \"Россия\"]],\n",
    "            [\"visit8\", [\"Тула\", \"Россия\"]],\n",
    "            [\"visit9\", [\"Курск\", \"Россия\"]],\n",
    "            [\"visit10\", [\"Архангельск\", \"Россия\"]],\n",
    "]"
   ]
  },
  {
   "cell_type": "code",
   "execution_count": 30,
   "metadata": {},
   "outputs": [
    {
     "name": "stdout",
     "output_type": "stream",
     "text": [
      "[['visit1', ['Москва', 'Россия']], ['visit3', ['Владимир', 'Россия']], ['visit7', ['Тула', 'Россия']], ['visit8', ['Тула', 'Россия']], ['visit9', ['Курск', 'Россия']], ['visit10', ['Архангельск', 'Россия']]]\n"
     ]
    }
   ],
   "source": [
    "new_geo_logs = []\n",
    "for log in geo_logs:\n",
    "    if log[1][1] == \"Россия\":\n",
    "        new_geo_logs.append(log)\n",
    "print(new_geo_logs)"
   ]
  },
  {
   "cell_type": "code",
   "execution_count": null,
   "metadata": {
    "collapsed": true
   },
   "outputs": [],
   "source": [
    "Выведите на экран все уникальные гео-ID из списка координат ids. Т. е. список вида [213, 15, 54, 119, 98, 35]\n",
    "ids = [[‘user1’, [213, 213, 213, 15, 213]], [‘user2’, [54, 54, 119, 119, 119]], [‘user3’, [213, 98, 98, 35]]]"
   ]
  },
  {
   "cell_type": "code",
   "execution_count": 77,
   "metadata": {},
   "outputs": [],
   "source": [
    "ids = [[\"user1\", [213, 213, 213, 15, 213]], [\"user2\", [54, 54, 119, 119, 119]], [\"user3\", [213, 98, 98, 35]]]"
   ]
  },
  {
   "cell_type": "code",
   "execution_count": 78,
   "metadata": {},
   "outputs": [
    {
     "name": "stdout",
     "output_type": "stream",
     "text": [
      "[{213, 15}, {54, 119}, {98, 35, 213}]\n"
     ]
    }
   ],
   "source": [
    "my_set = []\n",
    "for id in ids:\n",
    "    my_set.append(set(id[1]))\n",
    "print(my_set)"
   ]
  },
  {
   "cell_type": "code",
   "execution_count": 83,
   "metadata": {},
   "outputs": [
    {
     "name": "stdout",
     "output_type": "stream",
     "text": [
      "[98, 35, 15, 213, 54, 119]\n"
     ]
    }
   ],
   "source": [
    "flattened = []\n",
    "for sublist in my_set:\n",
    "    for val in sublist:\n",
    "        flattened.append(val)\n",
    "print(list(set(flattened)))"
   ]
  },
  {
   "cell_type": "code",
   "execution_count": 49,
   "metadata": {},
   "outputs": [],
   "source": [
    "# Список поисковых запросов. Получить распределение количества слов в них. Т. е. поисковых запросов из одного слова 5%, из двух - 7%, из трех - 3% итд.\n",
    "# queries = [\n",
    "#‘смотреть сериалы онлайн’,\n",
    "#‘новости спорта’,\n",
    "#‘афиша кино’,\n",
    "#‘курс доллара’,\n",
    "#‘сериалы этим летом’,\n",
    "#‘курс по питону’,\n",
    "#‘сериалы про спорт’,\n",
    "#]"
   ]
  },
  {
   "cell_type": "code",
   "execution_count": 54,
   "metadata": {
    "collapsed": true
   },
   "outputs": [],
   "source": [
    "queries = [\n",
    "\"смотреть сериалы онлайн\",\n",
    "\"новости спорта\",\n",
    "\"афиша кино\",\n",
    "\"курс доллара\",\n",
    "\"сериалы этим летом\",\n",
    "\"курс по питону\",\n",
    "\"сериалы про спорт\",\n",
    "]"
   ]
  },
  {
   "cell_type": "code",
   "execution_count": 63,
   "metadata": {},
   "outputs": [],
   "source": [
    "one_word = 0\n",
    "two_words = 0\n",
    "three_words = 0\n",
    "for query in queries:\n",
    "    if len(query.split()) == 1:\n",
    "        one_word +=1\n",
    "    elif len(query.split()) == 2:\n",
    "        two_words +=1\n",
    "    elif len(query.split()) == 3:\n",
    "        three_words +=1"
   ]
  },
  {
   "cell_type": "code",
   "execution_count": 66,
   "metadata": {},
   "outputs": [],
   "source": [
    "total = one_word + two_words + three_words"
   ]
  },
  {
   "cell_type": "code",
   "execution_count": 75,
   "metadata": {},
   "outputs": [
    {
     "name": "stdout",
     "output_type": "stream",
     "text": [
      " Поисковых запросов из одного слова:  0.0 процентов\n",
      " Поисковых запросов из двух слов:  42.9 процентов\n",
      " Поисковых запросов из трех слов:  57.1 процентов\n"
     ]
    }
   ],
   "source": [
    "print(' Поисковых запросов из одного слова: ', one_word / total * 100, 'процентов')\n",
    "print(' Поисковых запросов из двух слов: ', round(two_words / total * 100, 1) , 'процентов')\n",
    "print(' Поисковых запросов из трех слов: ', round(three_words / total *100, 1) , 'процентов')"
   ]
  }
 ],
 "metadata": {
  "kernelspec": {
   "display_name": "Python 3",
   "language": "python",
   "name": "python3"
  },
  "language_info": {
   "codemirror_mode": {
    "name": "ipython",
    "version": 3
   },
   "file_extension": ".py",
   "mimetype": "text/x-python",
   "name": "python",
   "nbconvert_exporter": "python",
   "pygments_lexer": "ipython3",
   "version": "3.6.8"
  }
 },
 "nbformat": 4,
 "nbformat_minor": 2
}
